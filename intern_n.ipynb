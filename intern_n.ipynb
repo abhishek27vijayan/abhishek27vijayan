{
  "nbformat": 4,
  "nbformat_minor": 0,
  "metadata": {
    "colab": {
      "name": "intern_n.ipynb",
      "provenance": [],
      "collapsed_sections": [],
      "authorship_tag": "ABX9TyM3pB/e+s/JoU9ayXEOGArl",
      "include_colab_link": true
    },
    "kernelspec": {
      "name": "python3",
      "display_name": "Python 3"
    },
    "language_info": {
      "name": "python"
    }
  },
  "cells": [
    {
      "cell_type": "markdown",
      "metadata": {
        "id": "view-in-github",
        "colab_type": "text"
      },
      "source": [
        "<a href=\"https://colab.research.google.com/github/abhishek27vijayan/abhishek27vijayan/blob/main/intern_n.ipynb\" target=\"_parent\"><img src=\"https://colab.research.google.com/assets/colab-badge.svg\" alt=\"Open In Colab\"/></a>"
      ]
    },
    {
      "cell_type": "code",
      "metadata": {
        "id": "ZKqzL2ip_XAg"
      },
      "source": [
        "import numpy as np\n",
        "import pandas as pd\n",
        "import plotly.graph_objects as go\n",
        "import matplotlib.pyplot as plt\n",
        "from sklearn import preprocessing\n",
        "import keras\n",
        "from keras.models import Sequential\n",
        "from keras.layers import LSTM, Dense"
      ],
      "execution_count": null,
      "outputs": []
    },
    {
      "cell_type": "code",
      "metadata": {
        "id": "gIeBallI_xqI"
      },
      "source": [
        "s=1\n",
        "time=np.linspace(0,s,1000,endpoint=True)\n",
        "time\n"
      ],
      "execution_count": null,
      "outputs": []
    },
    {
      "cell_type": "code",
      "metadata": {
        "id": "OAzziD4e_yGF"
      },
      "source": [
        "nfrequency=200\n",
        "namplitude=1\n",
        "noise=namplitude*np.sin(2*np.pi*nfrequency*time)"
      ],
      "execution_count": null,
      "outputs": []
    },
    {
      "cell_type": "code",
      "metadata": {
        "id": "KVyI825c_0Q9"
      },
      "source": [
        "amplitude=15\n",
        "frequency=10\n",
        "phase=5\n",
        "signal=amplitude*np.sin(2*np.pi*frequency*time+ phase)\n",
        "signal1=signal+noise\n",
        "signal1\n"
      ],
      "execution_count": null,
      "outputs": []
    },
    {
      "cell_type": "code",
      "metadata": {
        "id": "nXc14z82_2tf"
      },
      "source": [
        "fig1=go.Figure(layout=dict(xaxis=dict(title=\"time\"),yaxis=dict(title=\"amplitude\")))\n",
        "fig1.add_scatter(x=time,y=signal1)\n",
        "fig1.update_layout(title='SIGNAL')\n",
        "fig1.show()"
      ],
      "execution_count": null,
      "outputs": []
    },
    {
      "cell_type": "code",
      "metadata": {
        "id": "y5pRAEZzAioM"
      },
      "source": [
        "plt.figure(figsize=(21,7))\n",
        "plt.scatter(time,signal1,s=10,c='g',label=\"SIGNAL\")\n",
        "plt.title(\"GRAPH\")\n",
        "plt.xlabel(\"TIME\")\n",
        "plt.ylabel(\"AMPLITUDE\")\n",
        "plt.legend()\n",
        "plt.show()"
      ],
      "execution_count": null,
      "outputs": []
    },
    {
      "cell_type": "code",
      "metadata": {
        "id": "VSI_HJJTAnoD"
      },
      "source": [
        "trainx, testx = time[0:int(0.8*(len(time)))], time[int(0.8*(len(time))):]\n",
        "trainy, testy = signal1[0:int(0.8*(len(signal1)))], signal1[int(0.8*(len(signal1))):]\n",
        "train = np.array(list(zip(trainx,trainy)))\n",
        "test = np.array(list(zip(trainx,trainy)))"
      ],
      "execution_count": null,
      "outputs": []
    },
    {
      "cell_type": "code",
      "metadata": {
        "id": "gxAa-clUAqM1"
      },
      "source": [
        "def create_dataset(n_X, look_back):\n",
        "   dataX, dataY = [], []\n",
        "   for i in range(len(n_X)-look_back):\n",
        "      a = n_X[i:(i+look_back), ]\n",
        "      dataX.append(a)\n",
        "      dataY.append(n_X[i + look_back, ])\n",
        "   return np.array(dataX), np.array(dataY)"
      ],
      "execution_count": null,
      "outputs": []
    },
    {
      "cell_type": "code",
      "metadata": {
        "id": "7hiHPA3vAtLo"
      },
      "source": [
        "look_back = 1\n",
        "trainx,trainy = create_dataset(train, look_back)\n",
        "testx,testy = create_dataset(test, look_back)\n",
        "trainx = np.reshape(trainx, (trainx.shape[0], 1, 2))\n",
        "testx = np.reshape(testx, (testx.shape[0], 1, 2))"
      ],
      "execution_count": 15,
      "outputs": []
    },
    {
      "cell_type": "code",
      "metadata": {
        "colab": {
          "base_uri": "https://localhost:8080/"
        },
        "id": "DjlwmlF8Au6k",
        "outputId": "fc209cc8-53d8-4df0-eba3-b0d4157df663"
      },
      "source": [
        "model = Sequential()\n",
        "model.add(LSTM(512, return_sequences = True, input_shape = (trainx.shape[1], 2)))\n",
        "model.add(LSTM(256,input_shape = (trainx.shape[1], 2)))\n",
        "model.add(Dense(2))\n",
        "model.compile(loss = 'mean_squared_error', optimizer = 'adam', metrics=['accuracy'])\n",
        "model.fit(trainx, trainy, epochs = 100, batch_size = 10, verbose = 2, shuffle = False)\n",
        "model.save_weights('LSTMBasic2.h5')"
      ],
      "execution_count": 17,
      "outputs": [
        {
          "output_type": "stream",
          "text": [
            "Epoch 1/100\n",
            "80/80 - 5s - loss: 15.8890 - accuracy: 0.9662\n",
            "Epoch 2/100\n",
            "80/80 - 1s - loss: 1.0910 - accuracy: 0.9675\n",
            "Epoch 3/100\n",
            "80/80 - 1s - loss: 0.6523 - accuracy: 0.9675\n",
            "Epoch 4/100\n",
            "80/80 - 1s - loss: 0.6303 - accuracy: 0.9675\n",
            "Epoch 5/100\n",
            "80/80 - 1s - loss: 0.6302 - accuracy: 0.9675\n",
            "Epoch 6/100\n",
            "80/80 - 1s - loss: 0.6308 - accuracy: 0.9687\n",
            "Epoch 7/100\n",
            "80/80 - 1s - loss: 0.6316 - accuracy: 0.9712\n",
            "Epoch 8/100\n",
            "80/80 - 1s - loss: 0.6324 - accuracy: 0.9712\n",
            "Epoch 9/100\n",
            "80/80 - 1s - loss: 0.6334 - accuracy: 0.9687\n",
            "Epoch 10/100\n",
            "80/80 - 1s - loss: 0.6344 - accuracy: 0.9687\n",
            "Epoch 11/100\n",
            "80/80 - 1s - loss: 0.6359 - accuracy: 0.9700\n",
            "Epoch 12/100\n",
            "80/80 - 1s - loss: 0.6415 - accuracy: 0.9700\n",
            "Epoch 13/100\n",
            "80/80 - 1s - loss: 0.6797 - accuracy: 0.9700\n",
            "Epoch 14/100\n",
            "80/80 - 1s - loss: 0.7913 - accuracy: 0.9725\n",
            "Epoch 15/100\n",
            "80/80 - 1s - loss: 0.7057 - accuracy: 0.9725\n",
            "Epoch 16/100\n",
            "80/80 - 1s - loss: 0.6486 - accuracy: 0.9725\n",
            "Epoch 17/100\n",
            "80/80 - 1s - loss: 0.6453 - accuracy: 0.9725\n",
            "Epoch 18/100\n",
            "80/80 - 1s - loss: 0.6540 - accuracy: 0.9737\n",
            "Epoch 19/100\n",
            "80/80 - 1s - loss: 0.6845 - accuracy: 0.9737\n",
            "Epoch 20/100\n",
            "80/80 - 1s - loss: 0.7233 - accuracy: 0.9737\n",
            "Epoch 21/100\n",
            "80/80 - 1s - loss: 0.6938 - accuracy: 0.9737\n",
            "Epoch 22/100\n",
            "80/80 - 1s - loss: 0.6579 - accuracy: 0.9737\n",
            "Epoch 23/100\n",
            "80/80 - 1s - loss: 0.6470 - accuracy: 0.9737\n",
            "Epoch 24/100\n",
            "80/80 - 1s - loss: 0.6454 - accuracy: 0.9737\n",
            "Epoch 25/100\n",
            "80/80 - 1s - loss: 0.6489 - accuracy: 0.9750\n",
            "Epoch 26/100\n",
            "80/80 - 1s - loss: 0.6597 - accuracy: 0.9750\n",
            "Epoch 27/100\n",
            "80/80 - 1s - loss: 0.6822 - accuracy: 0.9750\n",
            "Epoch 28/100\n",
            "80/80 - 1s - loss: 0.7135 - accuracy: 0.9750\n",
            "Epoch 29/100\n",
            "80/80 - 1s - loss: 0.6916 - accuracy: 0.9750\n",
            "Epoch 30/100\n",
            "80/80 - 1s - loss: 0.6474 - accuracy: 0.9750\n",
            "Epoch 31/100\n",
            "80/80 - 1s - loss: 0.6365 - accuracy: 0.9762\n",
            "Epoch 32/100\n",
            "80/80 - 1s - loss: 0.6371 - accuracy: 0.9762\n",
            "Epoch 33/100\n",
            "80/80 - 1s - loss: 0.6452 - accuracy: 0.9750\n",
            "Epoch 34/100\n",
            "80/80 - 1s - loss: 0.6607 - accuracy: 0.9750\n",
            "Epoch 35/100\n",
            "80/80 - 1s - loss: 0.6648 - accuracy: 0.9750\n",
            "Epoch 36/100\n",
            "80/80 - 1s - loss: 0.6536 - accuracy: 0.9750\n",
            "Epoch 37/100\n",
            "80/80 - 1s - loss: 0.6537 - accuracy: 0.9750\n",
            "Epoch 38/100\n",
            "80/80 - 1s - loss: 0.6733 - accuracy: 0.9762\n",
            "Epoch 39/100\n",
            "80/80 - 1s - loss: 0.6859 - accuracy: 0.9762\n",
            "Epoch 40/100\n",
            "80/80 - 1s - loss: 0.6532 - accuracy: 0.9762\n",
            "Epoch 41/100\n",
            "80/80 - 1s - loss: 0.6387 - accuracy: 0.9762\n",
            "Epoch 42/100\n",
            "80/80 - 1s - loss: 0.6385 - accuracy: 0.9762\n",
            "Epoch 43/100\n",
            "80/80 - 1s - loss: 0.6438 - accuracy: 0.9762\n",
            "Epoch 44/100\n",
            "80/80 - 1s - loss: 0.6500 - accuracy: 0.9762\n",
            "Epoch 45/100\n",
            "80/80 - 1s - loss: 0.6505 - accuracy: 0.9762\n",
            "Epoch 46/100\n",
            "80/80 - 1s - loss: 0.6458 - accuracy: 0.9750\n",
            "Epoch 47/100\n",
            "80/80 - 1s - loss: 0.6410 - accuracy: 0.9750\n",
            "Epoch 48/100\n",
            "80/80 - 1s - loss: 0.6377 - accuracy: 0.9750\n",
            "Epoch 49/100\n",
            "80/80 - 1s - loss: 0.6355 - accuracy: 0.9750\n",
            "Epoch 50/100\n",
            "80/80 - 1s - loss: 0.6338 - accuracy: 0.9750\n",
            "Epoch 51/100\n",
            "80/80 - 1s - loss: 0.6323 - accuracy: 0.9750\n",
            "Epoch 52/100\n",
            "80/80 - 1s - loss: 0.6311 - accuracy: 0.9750\n",
            "Epoch 53/100\n",
            "80/80 - 1s - loss: 0.6301 - accuracy: 0.9750\n",
            "Epoch 54/100\n",
            "80/80 - 1s - loss: 0.6293 - accuracy: 0.9750\n",
            "Epoch 55/100\n",
            "80/80 - 1s - loss: 0.6286 - accuracy: 0.9750\n",
            "Epoch 56/100\n",
            "80/80 - 1s - loss: 0.6280 - accuracy: 0.9750\n",
            "Epoch 57/100\n",
            "80/80 - 1s - loss: 0.6274 - accuracy: 0.9750\n",
            "Epoch 58/100\n",
            "80/80 - 1s - loss: 0.6270 - accuracy: 0.9750\n",
            "Epoch 59/100\n",
            "80/80 - 1s - loss: 0.6266 - accuracy: 0.9750\n",
            "Epoch 60/100\n",
            "80/80 - 1s - loss: 0.6262 - accuracy: 0.9750\n",
            "Epoch 61/100\n",
            "80/80 - 1s - loss: 0.6259 - accuracy: 0.9750\n",
            "Epoch 62/100\n",
            "80/80 - 1s - loss: 0.6257 - accuracy: 0.9750\n",
            "Epoch 63/100\n",
            "80/80 - 1s - loss: 0.6257 - accuracy: 0.9750\n",
            "Epoch 64/100\n",
            "80/80 - 1s - loss: 0.6258 - accuracy: 0.9750\n",
            "Epoch 65/100\n",
            "80/80 - 1s - loss: 0.6261 - accuracy: 0.9750\n",
            "Epoch 66/100\n",
            "80/80 - 1s - loss: 0.6265 - accuracy: 0.9750\n",
            "Epoch 67/100\n",
            "80/80 - 1s - loss: 0.6270 - accuracy: 0.9750\n",
            "Epoch 68/100\n",
            "80/80 - 1s - loss: 0.6276 - accuracy: 0.9750\n",
            "Epoch 69/100\n",
            "80/80 - 1s - loss: 0.6282 - accuracy: 0.9750\n",
            "Epoch 70/100\n",
            "80/80 - 1s - loss: 0.6288 - accuracy: 0.9750\n",
            "Epoch 71/100\n",
            "80/80 - 1s - loss: 0.6294 - accuracy: 0.9750\n",
            "Epoch 72/100\n",
            "80/80 - 1s - loss: 0.6299 - accuracy: 0.9750\n",
            "Epoch 73/100\n",
            "80/80 - 1s - loss: 0.6304 - accuracy: 0.9750\n",
            "Epoch 74/100\n",
            "80/80 - 1s - loss: 0.6308 - accuracy: 0.9750\n",
            "Epoch 75/100\n",
            "80/80 - 1s - loss: 0.6312 - accuracy: 0.9750\n",
            "Epoch 76/100\n",
            "80/80 - 1s - loss: 0.6315 - accuracy: 0.9750\n",
            "Epoch 77/100\n",
            "80/80 - 1s - loss: 0.6318 - accuracy: 0.9750\n",
            "Epoch 78/100\n",
            "80/80 - 1s - loss: 0.6321 - accuracy: 0.9750\n",
            "Epoch 79/100\n",
            "80/80 - 1s - loss: 0.6324 - accuracy: 0.9750\n",
            "Epoch 80/100\n",
            "80/80 - 1s - loss: 0.6326 - accuracy: 0.9750\n",
            "Epoch 81/100\n",
            "80/80 - 1s - loss: 0.6328 - accuracy: 0.9750\n",
            "Epoch 82/100\n",
            "80/80 - 1s - loss: 0.6330 - accuracy: 0.9750\n",
            "Epoch 83/100\n",
            "80/80 - 1s - loss: 0.6331 - accuracy: 0.9750\n",
            "Epoch 84/100\n",
            "80/80 - 1s - loss: 0.6331 - accuracy: 0.9750\n",
            "Epoch 85/100\n",
            "80/80 - 1s - loss: 0.6331 - accuracy: 0.9750\n",
            "Epoch 86/100\n",
            "80/80 - 1s - loss: 0.6329 - accuracy: 0.9750\n",
            "Epoch 87/100\n",
            "80/80 - 1s - loss: 0.6327 - accuracy: 0.9750\n",
            "Epoch 88/100\n",
            "80/80 - 1s - loss: 0.6325 - accuracy: 0.9750\n",
            "Epoch 89/100\n",
            "80/80 - 1s - loss: 0.6322 - accuracy: 0.9750\n",
            "Epoch 90/100\n",
            "80/80 - 1s - loss: 0.6320 - accuracy: 0.9762\n",
            "Epoch 91/100\n",
            "80/80 - 1s - loss: 0.6318 - accuracy: 0.9762\n",
            "Epoch 92/100\n",
            "80/80 - 1s - loss: 0.6317 - accuracy: 0.9762\n",
            "Epoch 93/100\n",
            "80/80 - 1s - loss: 0.6317 - accuracy: 0.9762\n",
            "Epoch 94/100\n",
            "80/80 - 1s - loss: 0.6316 - accuracy: 0.9762\n",
            "Epoch 95/100\n",
            "80/80 - 1s - loss: 0.6313 - accuracy: 0.9762\n",
            "Epoch 96/100\n",
            "80/80 - 1s - loss: 0.6308 - accuracy: 0.9762\n",
            "Epoch 97/100\n",
            "80/80 - 1s - loss: 0.6300 - accuracy: 0.9762\n",
            "Epoch 98/100\n",
            "80/80 - 1s - loss: 0.6291 - accuracy: 0.9762\n",
            "Epoch 99/100\n",
            "80/80 - 1s - loss: 0.6284 - accuracy: 0.9762\n",
            "Epoch 100/100\n",
            "80/80 - 1s - loss: 0.6278 - accuracy: 0.9762\n"
          ],
          "name": "stdout"
        }
      ]
    },
    {
      "cell_type": "code",
      "metadata": {
        "id": "lC52A0EeAwtI"
      },
      "source": [
        "model.load_weights('LSTMBasic2.h5')\n",
        "predict = model.predict(testx)"
      ],
      "execution_count": 13,
      "outputs": []
    },
    {
      "cell_type": "code",
      "metadata": {
        "id": "-dt5WHyhAygi",
        "colab": {
          "base_uri": "https://localhost:8080/",
          "height": 282
        },
        "outputId": "d66841f1-bac4-4ef2-8b50-bbde71270adb"
      },
      "source": [
        "plt.plot(testx.reshape(799,2)[:,0:1], testx.reshape(799,2)[:,1:2])\n",
        "plt.plot(predict[:,0:1], predict[:,1:2])"
      ],
      "execution_count": 16,
      "outputs": [
        {
          "output_type": "execute_result",
          "data": {
            "text/plain": [
              "[<matplotlib.lines.Line2D at 0x7f5ba641a490>]"
            ]
          },
          "metadata": {
            "tags": []
          },
          "execution_count": 16
        },
        {
          "output_type": "display_data",
          "data": {
            "image/png": "[encoded data removed]",
            "text/plain": [
              "<Figure size 432x288 with 1 Axes>"
            ]
          },
          "metadata": {
            "tags": [],
            "needs_background": "light"
          }
        }
      ]
    },
    {
      "cell_type": "code",
      "metadata": {
        "id": "sKAA7PSuA067"
      },
      "source": [
        ""
      ],
      "execution_count": null,
      "outputs": []
    }
  ]
}